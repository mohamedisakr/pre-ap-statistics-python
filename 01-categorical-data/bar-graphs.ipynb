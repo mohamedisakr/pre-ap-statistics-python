{
 "cells": [
  {
   "cell_type": "code",
   "execution_count": 1,
   "id": "263a7bce",
   "metadata": {},
   "outputs": [],
   "source": [
    "import numpy as np\n",
    "import pandas as pd\n",
    "import matplotlib.pyplot as plt\n",
    "import seaborn as sns"
   ]
  },
  {
   "cell_type": "code",
   "execution_count": 2,
   "id": "fc65c2f1",
   "metadata": {},
   "outputs": [],
   "source": [
    "sns.set_theme(style=\"whitegrid\")"
   ]
  },
  {
   "cell_type": "markdown",
   "id": "4ff0206f",
   "metadata": {},
   "source": [
    "#### Example 1: create bar chart show favorite course"
   ]
  },
  {
   "cell_type": "code",
   "execution_count": 4,
   "id": "b1d10140",
   "metadata": {},
   "outputs": [
    {
     "data": {
      "text/plain": [
       "<AxesSubplot:xlabel='course', ylabel='frequency'>"
      ]
     },
     "execution_count": 4,
     "metadata": {},
     "output_type": "execute_result"
    },
    {
     "data": {
      "image/png": "[encoded data removed]",
      "text/plain": [
       "<Figure size 360x360 with 1 Axes>"
      ]
     },
     "metadata": {},
     "output_type": "display_data"
    }
   ],
   "source": [
    "# create data frame\n",
    "dic_student = {'course': ['Physics', 'Chemistry', 'Geometry', 'History', 'Language'], 'frequency': [0, 1, 9, 3, 7]}\n",
    "fav_courses = pd.DataFrame(dic_student)\n",
    "fav_courses.head()\n",
    "\n",
    "# plot\n",
    "plt.figure(figsize=(5,5))\n",
    "sns.barplot(x = 'course', y = 'frequency', data = fav_courses)"
   ]
  },
  {
   "cell_type": "code",
   "execution_count": null,
   "id": "bc60d766",
   "metadata": {},
   "outputs": [],
   "source": []
  }
 ],
 "metadata": {
  "kernelspec": {
   "display_name": "Python 3 (ipykernel)",
   "language": "python",
   "name": "python3"
  },
  "language_info": {
   "codemirror_mode": {
    "name": "ipython",
    "version": 3
   },
   "file_extension": ".py",
   "mimetype": "text/x-python",
   "name": "python",
   "nbconvert_exporter": "python",
   "pygments_lexer": "ipython3",
   "version": "3.9.12"
  }
 },
 "nbformat": 4,
 "nbformat_minor": 5
}
