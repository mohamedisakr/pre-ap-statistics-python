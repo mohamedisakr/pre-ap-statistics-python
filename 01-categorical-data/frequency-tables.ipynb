{
 "cells": [
  {
   "cell_type": "markdown",
   "id": "963f4f78",
   "metadata": {},
   "source": [
    "##### import libraries"
   ]
  },
  {
   "cell_type": "code",
   "execution_count": 5,
   "id": "ce3d2da8",
   "metadata": {},
   "outputs": [],
   "source": [
    "import numpy as np\n",
    "import pandas as pd\n",
    "import matplotlib.pyplot as plt\n",
    "import seaborn as sns"
   ]
  },
  {
   "cell_type": "code",
   "execution_count": 6,
   "id": "82aa6711",
   "metadata": {},
   "outputs": [],
   "source": [
    "sns.set_theme(style=\"whitegrid\")"
   ]
  },
  {
   "cell_type": "markdown",
   "id": "e50419c2",
   "metadata": {},
   "source": [
    "#### create pandas series "
   ]
  },
  {
   "cell_type": "code",
   "execution_count": 7,
   "id": "ec433f90",
   "metadata": {},
   "outputs": [
    {
     "data": {
      "text/plain": [
       "0    5\n",
       "1    7\n",
       "2    5\n",
       "3    9\n",
       "4    7\n",
       "dtype: int64"
      ]
     },
     "execution_count": 7,
     "metadata": {},
     "output_type": "execute_result"
    }
   ],
   "source": [
    "a = pd.Series([5, 7, 5, 9, 7, 7, 6, 9, 9, 9, 10, 12, 12, 7])\n",
    "a.head()"
   ]
  },
  {
   "cell_type": "markdown",
   "id": "322852fe",
   "metadata": {},
   "source": [
    "#### create basic countplot"
   ]
  },
  {
   "cell_type": "code",
   "execution_count": 4,
   "id": "525588ad",
   "metadata": {},
   "outputs": [
    {
     "data": {
      "text/plain": [
       "<AxesSubplot:ylabel='count'>"
      ]
     },
     "execution_count": 4,
     "metadata": {},
     "output_type": "execute_result"
    },
    {
     "data": {
      "image/png": "[encoded data removed]",
      "text/plain": [
       "<Figure size 1080x360 with 1 Axes>"
      ]
     },
     "metadata": {},
     "output_type": "display_data"
    }
   ],
   "source": [
    "plt.figure(figsize=(15,5))\n",
    "sns.countplot(x=a)"
   ]
  },
  {
   "cell_type": "markdown",
   "id": "aea0dcfa",
   "metadata": {},
   "source": [
    "#### Q1. Using this data to create a frequency table."
   ]
  },
  {
   "cell_type": "code",
   "execution_count": 9,
   "id": "5616075b",
   "metadata": {},
   "outputs": [
    {
     "data": {
      "text/plain": [
       "<AxesSubplot:ylabel='count'>"
      ]
     },
     "execution_count": 9,
     "metadata": {},
     "output_type": "execute_result"
    },
    {
     "data": {
      "image/png": "[encoded data removed]",
      "text/plain": [
       "<Figure size 360x360 with 1 Axes>"
      ]
     },
     "metadata": {},
     "output_type": "display_data"
    }
   ],
   "source": [
    "b = pd.Series([1,2,2,1,2,1])\n",
    "plt.figure(figsize=(5,5))\n",
    "sns.countplot(x=b)"
   ]
  },
  {
   "cell_type": "code",
   "execution_count": null,
   "id": "c50be5b4",
   "metadata": {},
   "outputs": [],
   "source": []
  }
 ],
 "metadata": {
  "kernelspec": {
   "display_name": "Python 3 (ipykernel)",
   "language": "python",
   "name": "python3"
  },
  "language_info": {
   "codemirror_mode": {
    "name": "ipython",
    "version": 3
   },
   "file_extension": ".py",
   "mimetype": "text/x-python",
   "name": "python",
   "nbconvert_exporter": "python",
   "pygments_lexer": "ipython3",
   "version": "3.9.12"
  }
 },
 "nbformat": 4,
 "nbformat_minor": 5
}
