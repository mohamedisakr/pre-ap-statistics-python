{
 "cells": [
  {
   "cell_type": "code",
   "execution_count": 1,
   "id": "46391d5f",
   "metadata": {},
   "outputs": [],
   "source": [
    "import numpy as np\n",
    "import pandas as pd\n",
    "import matplotlib.pyplot as plt\n",
    "import seaborn as sns"
   ]
  },
  {
   "cell_type": "markdown",
   "id": "bd8f90fd",
   "metadata": {},
   "source": [
    "#### Quiz 1"
   ]
  },
  {
   "cell_type": "code",
   "execution_count": 2,
   "id": "05351e54",
   "metadata": {},
   "outputs": [
    {
     "data": {
      "text/plain": [
       "<AxesSubplot:>"
      ]
     },
     "execution_count": 2,
     "metadata": {},
     "output_type": "execute_result"
    },
    {
     "data": {
      "image/png": "[encoded data removed]",
      "text/plain": [
       "<Figure size 360x360 with 1 Axes>"
      ]
     },
     "metadata": {
      "needs_background": "light"
     },
     "output_type": "display_data"
    }
   ],
   "source": [
    "# The data below represents the number of cones sold at each of the ice cream stands in Koh Lanta.\n",
    "# 41, 42, 43, 43, 43, 45, 47, 48, 50, 50\n",
    "# Which box plot correctly summarizes the data?\n",
    "cones = pd.Series([41, 42, 43, 43, 43, 45, 47, 48, 50, 50])\n",
    "plt.figure(figsize=(5,5))\n",
    "# sns.countplot(x=cones)\n",
    "sns.boxplot(x=cones)"
   ]
  },
  {
   "cell_type": "markdown",
   "id": "b2b22aff",
   "metadata": {},
   "source": [
    "#### Quiz 2"
   ]
  },
  {
   "cell_type": "code",
   "execution_count": 5,
   "id": "fecb7711",
   "metadata": {},
   "outputs": [
    {
     "data": {
      "text/plain": [
       "<AxesSubplot:ylabel='count'>"
      ]
     },
     "execution_count": 5,
     "metadata": {},
     "output_type": "execute_result"
    },
    {
     "data": {
      "image/png": "[encoded data removed]",
      "text/plain": [
       "<Figure size 360x360 with 1 Axes>"
      ]
     },
     "metadata": {
      "needs_background": "light"
     },
     "output_type": "display_data"
    }
   ],
   "source": [
    "# Kama cleans dishes at Keith's Kettle. The data below shows the number of dishes \n",
    "# she cleaned in each of her nine shifts over the last two weeks.\n",
    "# 43, 43, 45, 44, 46, 45, 44, 42, 45\n",
    "# Using this data, create a frequency table.\n",
    "dishes = pd.Series([43, 43, 45, 44, 46, 45, 44, 42, 45])\n",
    "plt.figure(figsize=(5,5))\n",
    "sns.countplot(x=dishes)"
   ]
  },
  {
   "cell_type": "code",
   "execution_count": 8,
   "id": "3954ca53",
   "metadata": {},
   "outputs": [
    {
     "data": {
      "text/plain": [
       "<AxesSubplot:>"
      ]
     },
     "execution_count": 8,
     "metadata": {},
     "output_type": "execute_result"
    },
    {
     "data": {
      "image/png": "[encoded data removed]",
      "text/plain": [
       "<Figure size 360x360 with 1 Axes>"
      ]
     },
     "metadata": {
      "needs_background": "light"
     },
     "output_type": "display_data"
    },
    {
     "data": {
      "image/png": "[encoded data removed]",
      "text/plain": [
       "<Figure size 360x360 with 1 Axes>"
      ]
     },
     "metadata": {
      "needs_background": "light"
     },
     "output_type": "display_data"
    },
    {
     "data": {
      "image/png": "[encoded data removed]",
      "text/plain": [
       "<Figure size 360x360 with 1 Axes>"
      ]
     },
     "metadata": {
      "needs_background": "light"
     },
     "output_type": "display_data"
    },
    {
     "data": {
      "image/png": "[encoded data removed]",
      "text/plain": [
       "<Figure size 360x360 with 1 Axes>"
      ]
     },
     "metadata": {
      "needs_background": "light"
     },
     "output_type": "display_data"
    }
   ],
   "source": [
    "a = pd.Series([54, 60, 63, 66, 67, 68, 70, 72, 73, 75, 76])\n",
    "plt.figure(figsize=(5,5))\n",
    "sns.boxplot(x=a)\n",
    "\n",
    "b = pd.Series([54, 60, 65, 66, 67, 69, 70, 72, 73, 75, 76])\n",
    "plt.figure(figsize=(5,5))\n",
    "sns.boxplot(x=b)\n",
    "\n",
    "c = pd.Series([54, 60, 65, 66, 67, 70, 70, 72, 73, 75, 76])\n",
    "plt.figure(figsize=(5,5))\n",
    "sns.boxplot(x=c)\n",
    "\n",
    "d = pd.Series([53, 60, 65, 66, 67, 69, 70, 72, 73, 75, 76])\n",
    "plt.figure(figsize=(5,5))\n",
    "sns.boxplot(x=d)\n",
    "\n",
    "# boxes = [a, b, c, d]\n",
    "\n",
    "# for box in boxes:\n",
    "#     plt.figure(figsize=(5,5))\n",
    "#     sns.boxplot(x=box)"
   ]
  },
  {
   "cell_type": "code",
   "execution_count": null,
   "id": "174efa2d",
   "metadata": {},
   "outputs": [],
   "source": []
  }
 ],
 "metadata": {
  "kernelspec": {
   "display_name": "Python 3 (ipykernel)",
   "language": "python",
   "name": "python3"
  },
  "language_info": {
   "codemirror_mode": {
    "name": "ipython",
    "version": 3
   },
   "file_extension": ".py",
   "mimetype": "text/x-python",
   "name": "python",
   "nbconvert_exporter": "python",
   "pygments_lexer": "ipython3",
   "version": "3.9.12"
  }
 },
 "nbformat": 4,
 "nbformat_minor": 5
}
